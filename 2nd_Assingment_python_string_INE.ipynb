{
  "nbformat": 4,
  "nbformat_minor": 0,
  "metadata": {
    "colab": {
      "name": "2nd Assingment_python_string_INE.ipynb",
      "provenance": []
    },
    "kernelspec": {
      "name": "python3",
      "display_name": "Python 3"
    }
  },
  "cells": [
    {
      "cell_type": "markdown",
      "metadata": {
        "id": "vo9HUw5woV9P",
        "colab_type": "text"
      },
      "source": [
        "**Problem Statement 1:**\n",
        "\n",
        "Create the below pattern using nested for loop in Python. \n",
        " "
      ]
    },
    {
      "cell_type": "code",
      "metadata": {
        "id": "SBhqQsJxn0jR",
        "colab_type": "code",
        "colab": {
          "base_uri": "https://localhost:8080/",
          "height": 221
        },
        "outputId": "45ccede2-94eb-494e-cb38-2dbb721c7ffd"
      },
      "source": [
        "def halfRhombus():\n",
        "  for i in range(6):\n",
        "    for j in range(i):\n",
        "      print(\"*\",end=\"\")\n",
        "    print()\n",
        "  for i in range(6):\n",
        "    for j in range(4-i):\n",
        "      print(\"*\",end=\"\")\n",
        "    print()\n",
        "\n",
        "halfRhombus()"
      ],
      "execution_count": 23,
      "outputs": [
        {
          "output_type": "stream",
          "text": [
            "\n",
            "*\n",
            "**\n",
            "***\n",
            "****\n",
            "*****\n",
            "****\n",
            "***\n",
            "**\n",
            "*\n",
            "\n",
            "\n"
          ],
          "name": "stdout"
        }
      ]
    },
    {
      "cell_type": "markdown",
      "metadata": {
        "id": "g094lsOprnAp",
        "colab_type": "text"
      },
      "source": [
        "**Problem Statement 2**\n",
        "\n",
        "Write a Python program to reverse a word after accepting the input from the user.\n"
      ]
    },
    {
      "cell_type": "code",
      "metadata": {
        "id": "jir9YaTMrulm",
        "colab_type": "code",
        "colab": {
          "base_uri": "https://localhost:8080/",
          "height": 34
        },
        "outputId": "a45bcb37-2c97-4954-d44c-924e2fd1f18c"
      },
      "source": [
        "inputWord = \"ineuron\"\n",
        "print(inputWord[::-1])"
      ],
      "execution_count": 20,
      "outputs": [
        {
          "output_type": "stream",
          "text": [
            "norueni\n"
          ],
          "name": "stdout"
        }
      ]
    }
  ]
}